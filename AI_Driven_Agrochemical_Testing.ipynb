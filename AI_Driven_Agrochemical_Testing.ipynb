{
  "nbformat": 4,
  "nbformat_minor": 0,
  "metadata": {
    "colab": {
      "provenance": [],
      "authorship_tag": "ABX9TyMPIp2zeMgEuQ9uWAhQ7bKs",
      "include_colab_link": true
    },
    "kernelspec": {
      "name": "python3",
      "display_name": "Python 3"
    },
    "language_info": {
      "name": "python"
    }
  },
  "cells": [
    {
      "cell_type": "markdown",
      "metadata": {
        "id": "view-in-github",
        "colab_type": "text"
      },
      "source": [
        "<a href=\"https://colab.research.google.com/github/PSivaMallikarjun/AI-Driven-Agrochemical-Testing/blob/main/AI_Driven_Agrochemical_Testing.ipynb\" target=\"_parent\"><img src=\"https://colab.research.google.com/assets/colab-badge.svg\" alt=\"Open In Colab\"/></a>"
      ]
    },
    {
      "cell_type": "markdown",
      "source": [
        "\n",
        "# AI-Driven HPLC and GLPC Testing for Agrochemicals"
      ],
      "metadata": {
        "id": "IFVODaX3cE_D"
      }
    },
    {
      "cell_type": "markdown",
      "source": [
        "# Overview\n",
        "\n",
        "This project leverages AI to enhance High-Performance Liquid Chromatography (HPLC) and Gas-Liquid Chromatography (GLPC) testing in agrochemicals. It provides an interactive interface for users to analyze, compare, and optimize chemical formulations for improved efficiency and compliance."
      ],
      "metadata": {
        "id": "sbWL_yRzcRgq"
      }
    },
    {
      "cell_type": "markdown",
      "source": [
        "# Features\n",
        "\n",
        "* Chemical Selection: Dropdown list of commonly used agrochemicals with the ability to add/remove entries.\n",
        "\n",
        "* Formulation Input: Users can enter the percentage composition of the formulation.\n",
        "\n",
        "* HPLC/GLPC Data Analysis: Compare actual vs. desired results with visualization.\n",
        "\n",
        "* Undo Feature: Allows reverting the last action for better usability.\n",
        "\n",
        "* CRUD Operations: Add, update, and delete chemicals in the system dynamically."
      ],
      "metadata": {
        "id": "CYsnJVzqcYQX"
      }
    },
    {
      "cell_type": "code",
      "source": [
        "!pip install gradio pandas numpy matplotlib seaborn plotly scikit-learn tensorflow"
      ],
      "metadata": {
        "colab": {
          "base_uri": "https://localhost:8080/"
        },
        "id": "V71KDMuwSa8_",
        "outputId": "7733fda6-3fcd-4f8d-e79e-c44c3c5e3c72"
      },
      "execution_count": 1,
      "outputs": [
        {
          "output_type": "stream",
          "name": "stdout",
          "text": [
            "Collecting gradio\n",
            "  Downloading gradio-5.22.0-py3-none-any.whl.metadata (16 kB)\n",
            "Requirement already satisfied: pandas in /usr/local/lib/python3.11/dist-packages (2.2.2)\n",
            "Requirement already satisfied: numpy in /usr/local/lib/python3.11/dist-packages (2.0.2)\n",
            "Requirement already satisfied: matplotlib in /usr/local/lib/python3.11/dist-packages (3.10.0)\n",
            "Requirement already satisfied: seaborn in /usr/local/lib/python3.11/dist-packages (0.13.2)\n",
            "Requirement already satisfied: plotly in /usr/local/lib/python3.11/dist-packages (5.24.1)\n",
            "Requirement already satisfied: scikit-learn in /usr/local/lib/python3.11/dist-packages (1.6.1)\n",
            "Requirement already satisfied: tensorflow in /usr/local/lib/python3.11/dist-packages (2.18.0)\n",
            "Collecting aiofiles<24.0,>=22.0 (from gradio)\n",
            "  Downloading aiofiles-23.2.1-py3-none-any.whl.metadata (9.7 kB)\n",
            "Requirement already satisfied: anyio<5.0,>=3.0 in /usr/local/lib/python3.11/dist-packages (from gradio) (4.9.0)\n",
            "Collecting fastapi<1.0,>=0.115.2 (from gradio)\n",
            "  Downloading fastapi-0.115.11-py3-none-any.whl.metadata (27 kB)\n",
            "Collecting ffmpy (from gradio)\n",
            "  Downloading ffmpy-0.5.0-py3-none-any.whl.metadata (3.0 kB)\n",
            "Collecting gradio-client==1.8.0 (from gradio)\n",
            "  Downloading gradio_client-1.8.0-py3-none-any.whl.metadata (7.1 kB)\n",
            "Collecting groovy~=0.1 (from gradio)\n",
            "  Downloading groovy-0.1.2-py3-none-any.whl.metadata (6.1 kB)\n",
            "Requirement already satisfied: httpx>=0.24.1 in /usr/local/lib/python3.11/dist-packages (from gradio) (0.28.1)\n",
            "Requirement already satisfied: huggingface-hub>=0.28.1 in /usr/local/lib/python3.11/dist-packages (from gradio) (0.29.3)\n",
            "Requirement already satisfied: jinja2<4.0 in /usr/local/lib/python3.11/dist-packages (from gradio) (3.1.6)\n",
            "Requirement already satisfied: markupsafe<4.0,>=2.0 in /usr/local/lib/python3.11/dist-packages (from gradio) (3.0.2)\n",
            "Requirement already satisfied: orjson~=3.0 in /usr/local/lib/python3.11/dist-packages (from gradio) (3.10.15)\n",
            "Requirement already satisfied: packaging in /usr/local/lib/python3.11/dist-packages (from gradio) (24.2)\n",
            "Requirement already satisfied: pillow<12.0,>=8.0 in /usr/local/lib/python3.11/dist-packages (from gradio) (11.1.0)\n",
            "Requirement already satisfied: pydantic>=2.0 in /usr/local/lib/python3.11/dist-packages (from gradio) (2.10.6)\n",
            "Collecting pydub (from gradio)\n",
            "  Downloading pydub-0.25.1-py2.py3-none-any.whl.metadata (1.4 kB)\n",
            "Collecting python-multipart>=0.0.18 (from gradio)\n",
            "  Downloading python_multipart-0.0.20-py3-none-any.whl.metadata (1.8 kB)\n",
            "Requirement already satisfied: pyyaml<7.0,>=5.0 in /usr/local/lib/python3.11/dist-packages (from gradio) (6.0.2)\n",
            "Collecting ruff>=0.9.3 (from gradio)\n",
            "  Downloading ruff-0.11.2-py3-none-manylinux_2_17_x86_64.manylinux2014_x86_64.whl.metadata (25 kB)\n",
            "Collecting safehttpx<0.2.0,>=0.1.6 (from gradio)\n",
            "  Downloading safehttpx-0.1.6-py3-none-any.whl.metadata (4.2 kB)\n",
            "Collecting semantic-version~=2.0 (from gradio)\n",
            "  Downloading semantic_version-2.10.0-py2.py3-none-any.whl.metadata (9.7 kB)\n",
            "Collecting starlette<1.0,>=0.40.0 (from gradio)\n",
            "  Downloading starlette-0.46.1-py3-none-any.whl.metadata (6.2 kB)\n",
            "Collecting tomlkit<0.14.0,>=0.12.0 (from gradio)\n",
            "  Downloading tomlkit-0.13.2-py3-none-any.whl.metadata (2.7 kB)\n",
            "Requirement already satisfied: typer<1.0,>=0.12 in /usr/local/lib/python3.11/dist-packages (from gradio) (0.15.2)\n",
            "Requirement already satisfied: typing-extensions~=4.0 in /usr/local/lib/python3.11/dist-packages (from gradio) (4.12.2)\n",
            "Collecting uvicorn>=0.14.0 (from gradio)\n",
            "  Downloading uvicorn-0.34.0-py3-none-any.whl.metadata (6.5 kB)\n",
            "Requirement already satisfied: fsspec in /usr/local/lib/python3.11/dist-packages (from gradio-client==1.8.0->gradio) (2025.3.0)\n",
            "Requirement already satisfied: websockets<16.0,>=10.0 in /usr/local/lib/python3.11/dist-packages (from gradio-client==1.8.0->gradio) (14.2)\n",
            "Requirement already satisfied: python-dateutil>=2.8.2 in /usr/local/lib/python3.11/dist-packages (from pandas) (2.8.2)\n",
            "Requirement already satisfied: pytz>=2020.1 in /usr/local/lib/python3.11/dist-packages (from pandas) (2025.1)\n",
            "Requirement already satisfied: tzdata>=2022.7 in /usr/local/lib/python3.11/dist-packages (from pandas) (2025.1)\n",
            "Requirement already satisfied: contourpy>=1.0.1 in /usr/local/lib/python3.11/dist-packages (from matplotlib) (1.3.1)\n",
            "Requirement already satisfied: cycler>=0.10 in /usr/local/lib/python3.11/dist-packages (from matplotlib) (0.12.1)\n",
            "Requirement already satisfied: fonttools>=4.22.0 in /usr/local/lib/python3.11/dist-packages (from matplotlib) (4.56.0)\n",
            "Requirement already satisfied: kiwisolver>=1.3.1 in /usr/local/lib/python3.11/dist-packages (from matplotlib) (1.4.8)\n",
            "Requirement already satisfied: pyparsing>=2.3.1 in /usr/local/lib/python3.11/dist-packages (from matplotlib) (3.2.1)\n",
            "Requirement already satisfied: tenacity>=6.2.0 in /usr/local/lib/python3.11/dist-packages (from plotly) (9.0.0)\n",
            "Requirement already satisfied: scipy>=1.6.0 in /usr/local/lib/python3.11/dist-packages (from scikit-learn) (1.14.1)\n",
            "Requirement already satisfied: joblib>=1.2.0 in /usr/local/lib/python3.11/dist-packages (from scikit-learn) (1.4.2)\n",
            "Requirement already satisfied: threadpoolctl>=3.1.0 in /usr/local/lib/python3.11/dist-packages (from scikit-learn) (3.6.0)\n",
            "Requirement already satisfied: absl-py>=1.0.0 in /usr/local/lib/python3.11/dist-packages (from tensorflow) (1.4.0)\n",
            "Requirement already satisfied: astunparse>=1.6.0 in /usr/local/lib/python3.11/dist-packages (from tensorflow) (1.6.3)\n",
            "Requirement already satisfied: flatbuffers>=24.3.25 in /usr/local/lib/python3.11/dist-packages (from tensorflow) (25.2.10)\n",
            "Requirement already satisfied: gast!=0.5.0,!=0.5.1,!=0.5.2,>=0.2.1 in /usr/local/lib/python3.11/dist-packages (from tensorflow) (0.6.0)\n",
            "Requirement already satisfied: google-pasta>=0.1.1 in /usr/local/lib/python3.11/dist-packages (from tensorflow) (0.2.0)\n",
            "Requirement already satisfied: libclang>=13.0.0 in /usr/local/lib/python3.11/dist-packages (from tensorflow) (18.1.1)\n",
            "Requirement already satisfied: opt-einsum>=2.3.2 in /usr/local/lib/python3.11/dist-packages (from tensorflow) (3.4.0)\n",
            "Requirement already satisfied: protobuf!=4.21.0,!=4.21.1,!=4.21.2,!=4.21.3,!=4.21.4,!=4.21.5,<6.0.0dev,>=3.20.3 in /usr/local/lib/python3.11/dist-packages (from tensorflow) (5.29.3)\n",
            "Requirement already satisfied: requests<3,>=2.21.0 in /usr/local/lib/python3.11/dist-packages (from tensorflow) (2.32.3)\n",
            "Requirement already satisfied: setuptools in /usr/local/lib/python3.11/dist-packages (from tensorflow) (75.1.0)\n",
            "Requirement already satisfied: six>=1.12.0 in /usr/local/lib/python3.11/dist-packages (from tensorflow) (1.17.0)\n",
            "Requirement already satisfied: termcolor>=1.1.0 in /usr/local/lib/python3.11/dist-packages (from tensorflow) (2.5.0)\n",
            "Requirement already satisfied: wrapt>=1.11.0 in /usr/local/lib/python3.11/dist-packages (from tensorflow) (1.17.2)\n",
            "Requirement already satisfied: grpcio<2.0,>=1.24.3 in /usr/local/lib/python3.11/dist-packages (from tensorflow) (1.71.0)\n",
            "Requirement already satisfied: tensorboard<2.19,>=2.18 in /usr/local/lib/python3.11/dist-packages (from tensorflow) (2.18.0)\n",
            "Requirement already satisfied: keras>=3.5.0 in /usr/local/lib/python3.11/dist-packages (from tensorflow) (3.8.0)\n",
            "Requirement already satisfied: h5py>=3.11.0 in /usr/local/lib/python3.11/dist-packages (from tensorflow) (3.13.0)\n",
            "Requirement already satisfied: ml-dtypes<0.5.0,>=0.4.0 in /usr/local/lib/python3.11/dist-packages (from tensorflow) (0.4.1)\n",
            "Requirement already satisfied: tensorflow-io-gcs-filesystem>=0.23.1 in /usr/local/lib/python3.11/dist-packages (from tensorflow) (0.37.1)\n",
            "Requirement already satisfied: idna>=2.8 in /usr/local/lib/python3.11/dist-packages (from anyio<5.0,>=3.0->gradio) (3.10)\n",
            "Requirement already satisfied: sniffio>=1.1 in /usr/local/lib/python3.11/dist-packages (from anyio<5.0,>=3.0->gradio) (1.3.1)\n",
            "Requirement already satisfied: wheel<1.0,>=0.23.0 in /usr/local/lib/python3.11/dist-packages (from astunparse>=1.6.0->tensorflow) (0.45.1)\n",
            "Requirement already satisfied: certifi in /usr/local/lib/python3.11/dist-packages (from httpx>=0.24.1->gradio) (2025.1.31)\n",
            "Requirement already satisfied: httpcore==1.* in /usr/local/lib/python3.11/dist-packages (from httpx>=0.24.1->gradio) (1.0.7)\n",
            "Requirement already satisfied: h11<0.15,>=0.13 in /usr/local/lib/python3.11/dist-packages (from httpcore==1.*->httpx>=0.24.1->gradio) (0.14.0)\n",
            "Requirement already satisfied: filelock in /usr/local/lib/python3.11/dist-packages (from huggingface-hub>=0.28.1->gradio) (3.18.0)\n",
            "Requirement already satisfied: tqdm>=4.42.1 in /usr/local/lib/python3.11/dist-packages (from huggingface-hub>=0.28.1->gradio) (4.67.1)\n",
            "Requirement already satisfied: rich in /usr/local/lib/python3.11/dist-packages (from keras>=3.5.0->tensorflow) (13.9.4)\n",
            "Requirement already satisfied: namex in /usr/local/lib/python3.11/dist-packages (from keras>=3.5.0->tensorflow) (0.0.8)\n",
            "Requirement already satisfied: optree in /usr/local/lib/python3.11/dist-packages (from keras>=3.5.0->tensorflow) (0.14.1)\n",
            "Requirement already satisfied: annotated-types>=0.6.0 in /usr/local/lib/python3.11/dist-packages (from pydantic>=2.0->gradio) (0.7.0)\n",
            "Requirement already satisfied: pydantic-core==2.27.2 in /usr/local/lib/python3.11/dist-packages (from pydantic>=2.0->gradio) (2.27.2)\n",
            "Requirement already satisfied: charset-normalizer<4,>=2 in /usr/local/lib/python3.11/dist-packages (from requests<3,>=2.21.0->tensorflow) (3.4.1)\n",
            "Requirement already satisfied: urllib3<3,>=1.21.1 in /usr/local/lib/python3.11/dist-packages (from requests<3,>=2.21.0->tensorflow) (2.3.0)\n",
            "Requirement already satisfied: markdown>=2.6.8 in /usr/local/lib/python3.11/dist-packages (from tensorboard<2.19,>=2.18->tensorflow) (3.7)\n",
            "Requirement already satisfied: tensorboard-data-server<0.8.0,>=0.7.0 in /usr/local/lib/python3.11/dist-packages (from tensorboard<2.19,>=2.18->tensorflow) (0.7.2)\n",
            "Requirement already satisfied: werkzeug>=1.0.1 in /usr/local/lib/python3.11/dist-packages (from tensorboard<2.19,>=2.18->tensorflow) (3.1.3)\n",
            "Requirement already satisfied: click>=8.0.0 in /usr/local/lib/python3.11/dist-packages (from typer<1.0,>=0.12->gradio) (8.1.8)\n",
            "Requirement already satisfied: shellingham>=1.3.0 in /usr/local/lib/python3.11/dist-packages (from typer<1.0,>=0.12->gradio) (1.5.4)\n",
            "Requirement already satisfied: markdown-it-py>=2.2.0 in /usr/local/lib/python3.11/dist-packages (from rich->keras>=3.5.0->tensorflow) (3.0.0)\n",
            "Requirement already satisfied: pygments<3.0.0,>=2.13.0 in /usr/local/lib/python3.11/dist-packages (from rich->keras>=3.5.0->tensorflow) (2.18.0)\n",
            "Requirement already satisfied: mdurl~=0.1 in /usr/local/lib/python3.11/dist-packages (from markdown-it-py>=2.2.0->rich->keras>=3.5.0->tensorflow) (0.1.2)\n",
            "Downloading gradio-5.22.0-py3-none-any.whl (46.2 MB)\n",
            "\u001b[2K   \u001b[90m━━━━━━━━━━━━━━━━━━━━━━━━━━━━━━━━━━━━━━━━\u001b[0m \u001b[32m46.2/46.2 MB\u001b[0m \u001b[31m9.5 MB/s\u001b[0m eta \u001b[36m0:00:00\u001b[0m\n",
            "\u001b[?25hDownloading gradio_client-1.8.0-py3-none-any.whl (322 kB)\n",
            "\u001b[2K   \u001b[90m━━━━━━━━━━━━━━━━━━━━━━━━━━━━━━━━━━━━━━━━\u001b[0m \u001b[32m322.2/322.2 kB\u001b[0m \u001b[31m13.1 MB/s\u001b[0m eta \u001b[36m0:00:00\u001b[0m\n",
            "\u001b[?25hDownloading aiofiles-23.2.1-py3-none-any.whl (15 kB)\n",
            "Downloading fastapi-0.115.11-py3-none-any.whl (94 kB)\n",
            "\u001b[2K   \u001b[90m━━━━━━━━━━━━━━━━━━━━━━━━━━━━━━━━━━━━━━━━\u001b[0m \u001b[32m94.9/94.9 kB\u001b[0m \u001b[31m2.4 MB/s\u001b[0m eta \u001b[36m0:00:00\u001b[0m\n",
            "\u001b[?25hDownloading groovy-0.1.2-py3-none-any.whl (14 kB)\n",
            "Downloading python_multipart-0.0.20-py3-none-any.whl (24 kB)\n",
            "Downloading ruff-0.11.2-py3-none-manylinux_2_17_x86_64.manylinux2014_x86_64.whl (11.3 MB)\n",
            "\u001b[2K   \u001b[90m━━━━━━━━━━━━━━━━━━━━━━━━━━━━━━━━━━━━━━━━\u001b[0m \u001b[32m11.3/11.3 MB\u001b[0m \u001b[31m25.7 MB/s\u001b[0m eta \u001b[36m0:00:00\u001b[0m\n",
            "\u001b[?25hDownloading safehttpx-0.1.6-py3-none-any.whl (8.7 kB)\n",
            "Downloading semantic_version-2.10.0-py2.py3-none-any.whl (15 kB)\n",
            "Downloading starlette-0.46.1-py3-none-any.whl (71 kB)\n",
            "\u001b[2K   \u001b[90m━━━━━━━━━━━━━━━━━━━━━━━━━━━━━━━━━━━━━━━━\u001b[0m \u001b[32m72.0/72.0 kB\u001b[0m \u001b[31m4.3 MB/s\u001b[0m eta \u001b[36m0:00:00\u001b[0m\n",
            "\u001b[?25hDownloading tomlkit-0.13.2-py3-none-any.whl (37 kB)\n",
            "Downloading uvicorn-0.34.0-py3-none-any.whl (62 kB)\n",
            "\u001b[2K   \u001b[90m━━━━━━━━━━━━━━━━━━━━━━━━━━━━━━━━━━━━━━━━\u001b[0m \u001b[32m62.3/62.3 kB\u001b[0m \u001b[31m3.9 MB/s\u001b[0m eta \u001b[36m0:00:00\u001b[0m\n",
            "\u001b[?25hDownloading ffmpy-0.5.0-py3-none-any.whl (6.0 kB)\n",
            "Downloading pydub-0.25.1-py2.py3-none-any.whl (32 kB)\n",
            "Installing collected packages: pydub, uvicorn, tomlkit, semantic-version, ruff, python-multipart, groovy, ffmpy, aiofiles, starlette, safehttpx, gradio-client, fastapi, gradio\n",
            "Successfully installed aiofiles-23.2.1 fastapi-0.115.11 ffmpy-0.5.0 gradio-5.22.0 gradio-client-1.8.0 groovy-0.1.2 pydub-0.25.1 python-multipart-0.0.20 ruff-0.11.2 safehttpx-0.1.6 semantic-version-2.10.0 starlette-0.46.1 tomlkit-0.13.2 uvicorn-0.34.0\n"
          ]
        }
      ]
    },
    {
      "cell_type": "markdown",
      "source": [
        "# Installation\n",
        "\n",
        "* To set up the project locally, install the required dependencies:"
      ],
      "metadata": {
        "id": "jQQVIyficqGf"
      }
    },
    {
      "cell_type": "markdown",
      "source": [
        "# Usage\n",
        "\n",
        "* Run the application using:"
      ],
      "metadata": {
        "id": "_dCyvndUc4Kj"
      }
    },
    {
      "cell_type": "code",
      "execution_count": null,
      "metadata": {
        "colab": {
          "base_uri": "https://localhost:8080/",
          "height": 784
        },
        "id": "t9cveuDlJwVf",
        "outputId": "51fea0ac-d9ed-4d22-ea36-142072f4f6dd"
      },
      "outputs": [
        {
          "metadata": {
            "tags": null
          },
          "name": "stdout",
          "output_type": "stream",
          "text": [
            "Running Gradio in a Colab notebook requires sharing enabled. Automatically setting `share=True` (you can turn this off by setting `share=False` in `launch()` explicitly).\n",
            "\n",
            "Colab notebook detected. This cell will run indefinitely so that you can see errors and logs. To turn off, set debug=False in launch().\n",
            "* Running on public URL: https://b1e9213085d0fdd23c.gradio.live\n",
            "\n",
            "This share link expires in 72 hours. For free permanent hosting and GPU upgrades, run `gradio deploy` from the terminal in the working directory to deploy to Hugging Face Spaces (https://huggingface.co/spaces)\n"
          ]
        },
        {
          "data": {
            "text/html": [
              "<div><iframe src=\"https://b1e9213085d0fdd23c.gradio.live\" width=\"100%\" height=\"500\" allow=\"autoplay; camera; microphone; clipboard-read; clipboard-write;\" frameborder=\"0\" allowfullscreen></iframe></div>"
            ],
            "text/plain": [
              "<IPython.core.display.HTML object>"
            ]
          },
          "metadata": {},
          "output_type": "display_data"
        },
        {
          "output_type": "stream",
          "name": "stderr",
          "text": [
            "/usr/local/lib/python3.11/dist-packages/gradio/components/dropdown.py:227: UserWarning: The value passed into gr.Dropdown() is not in the list of choices. Please update the list of choices to include: ['EC', 'SC', 'Paraquat Grass Killer', 'Granules', 'Pest Control'] or set allow_custom_value=True.\n",
            "  warnings.warn(\n",
            "/usr/local/lib/python3.11/dist-packages/gradio/components/dropdown.py:227: UserWarning: The value passed into gr.Dropdown() is not in the list of choices. Please update the list of choices to include: ['EC', 'SC', 'Paraquat Grass Killer', 'Granules', 'Pest Control', 'Lambda-Cyhalothrin 5% EC'] or set allow_custom_value=True.\n",
            "  warnings.warn(\n",
            "/usr/local/lib/python3.11/dist-packages/gradio/components/dropdown.py:227: UserWarning:\n",
            "\n",
            "The value passed into gr.Dropdown() is not in the list of choices. Please update the list of choices to include: ['EC', 'SC', 'Paraquat Grass Killer', 'Granules', 'Pest Control', 'Lambda-Cyhalothrin 5% EC'] or set allow_custom_value=True.\n",
            "\n"
          ]
        }
      ],
      "source": [
        "import gradio as gr\n",
        "import pandas as pd\n",
        "import numpy as np\n",
        "import matplotlib.pyplot as plt\n",
        "import seaborn as sns\n",
        "import plotly.graph_objects as go\n",
        "import json\n",
        "from sklearn.linear_model import LinearRegression\n",
        "\n",
        "# JSON file for storing chemicals\n",
        "CHEMICALS_FILE = \"chemicals.json\"\n",
        "\n",
        "# Load or initialize chemical sources\n",
        "def load_chemicals():\n",
        "    try:\n",
        "        with open(CHEMICALS_FILE, \"r\") as file:\n",
        "            return json.load(file)\n",
        "    except FileNotFoundError:\n",
        "        return [\"EC\", \"SC\", \"Paraquat Grass Killer\", \"Granules\", \"Pest Control\"]\n",
        "\n",
        "# Save chemicals to JSON file\n",
        "def save_chemicals(chemicals):\n",
        "    with open(CHEMICALS_FILE, \"w\") as file:\n",
        "        json.dump(chemicals, file)\n",
        "\n",
        "# Global chemical list & action history for undo\n",
        "chemical_sources = load_chemicals()\n",
        "action_history = []\n",
        "\n",
        "# Function to add a new chemical\n",
        "def add_chemical(new_chemical):\n",
        "    global chemical_sources\n",
        "    if new_chemical and new_chemical not in chemical_sources:\n",
        "        chemical_sources.append(new_chemical)\n",
        "        action_history.append((\"add\", new_chemical))\n",
        "        save_chemicals(chemical_sources)\n",
        "    return chemical_sources\n",
        "\n",
        "# Function to delete a chemical\n",
        "def delete_chemical(chemical):\n",
        "    global chemical_sources\n",
        "    if chemical in chemical_sources:\n",
        "        chemical_sources.remove(chemical)\n",
        "        action_history.append((\"delete\", chemical))\n",
        "        save_chemicals(chemical_sources)\n",
        "    return chemical_sources\n",
        "\n",
        "# Undo last action\n",
        "def undo_action():\n",
        "    if action_history:\n",
        "        last_action, chemical = action_history.pop()\n",
        "        if last_action == \"add\":\n",
        "            chemical_sources.remove(chemical)\n",
        "        elif last_action == \"delete\":\n",
        "            chemical_sources.append(chemical)\n",
        "        save_chemicals(chemical_sources)\n",
        "    return chemical_sources\n",
        "\n",
        "# AI Model Placeholder for Efficiency Analysis\n",
        "def ai_efficiency_prediction(actual, desired):\n",
        "    model = LinearRegression()\n",
        "    x = np.array(actual).reshape(-1, 1)\n",
        "    y = np.array(desired)\n",
        "    model.fit(x, y)\n",
        "    efficiency_score = model.predict(x)[-1]\n",
        "    improvement_points = np.round((desired[-1] - efficiency_score) * 100 / desired[-1], 2)\n",
        "    return efficiency_score, improvement_points\n",
        "\n",
        "# Function to Generate Candle & Line Graphs\n",
        "def generate_graphs(actual, desired, chemical):\n",
        "    fig, ax = plt.subplots(figsize=(8,5))\n",
        "\n",
        "    # Line Graph\n",
        "    plt.plot(actual, label=\"Actual HPLC/GLPC\", marker=\"o\", linestyle=\"-\", color=\"blue\")\n",
        "    plt.plot(desired, label=\"Desired HPLC/GLPC\", marker=\"s\", linestyle=\"--\", color=\"red\")\n",
        "    plt.xlabel(\"Sample Tests\")\n",
        "    plt.ylabel(\"Chemical Efficiency (%)\")\n",
        "    plt.title(f\"{chemical} - HPLC & GLPC Efficiency\")\n",
        "    plt.legend()\n",
        "    plt.grid(True)\n",
        "\n",
        "    # Save and display plot\n",
        "    plt.savefig(\"line_graph.png\")\n",
        "\n",
        "    # Candle Graph using Plotly\n",
        "    fig_candle = go.Figure(data=[go.Candlestick(\n",
        "        x=list(range(len(actual))),\n",
        "        open=actual, high=[max(actual)], low=[min(actual)], close=desired\n",
        "    )])\n",
        "\n",
        "    fig_candle.update_layout(title=f\"{chemical} - Efficiency Variation\", xaxis_title=\"Sample Tests\",\n",
        "                             yaxis_title=\"Efficiency (%)\", template=\"plotly_dark\")\n",
        "\n",
        "    return \"line_graph.png\", fig_candle\n",
        "\n",
        "# Gradio UI for Agrochemical Testing\n",
        "def agro_test(chemical, formulation, actual_values, desired_values):\n",
        "    actual = list(map(float, actual_values.split(\",\")))\n",
        "    desired = list(map(float, desired_values.split(\",\")))\n",
        "\n",
        "    efficiency, improvement = ai_efficiency_prediction(actual, desired)\n",
        "    line_graph, candle_graph = generate_graphs(actual, desired, chemical)\n",
        "\n",
        "    report = f\"**Efficiency Score:** {efficiency:.2f}%\\n\\n\"\n",
        "    report += f\"**Improvement Needed:** {improvement:.2f}%\\n\\n\"\n",
        "    report += f\"Suggested Adjustments: Increase purity levels, optimize formulation ratios.\\n\"\n",
        "\n",
        "    return report, line_graph, candle_graph\n",
        "\n",
        "# Gradio UI Components\n",
        "with gr.Blocks() as app:\n",
        "    gr.Markdown(\"# AI-Driven Agrochemical Testing 🌱\")\n",
        "\n",
        "    # CRUD Operations Section\n",
        "    with gr.Row():\n",
        "        chem_dropdown = gr.Dropdown(choices=chemical_sources, label=\"Select Chemical\", interactive=True)\n",
        "        add_input = gr.Textbox(label=\"Add New Chemical\")\n",
        "        add_button = gr.Button(\"➕ Add\")\n",
        "        delete_button = gr.Button(\"❌ Delete Selected\")\n",
        "        undo_button = gr.Button(\"↩️ Undo\")\n",
        "\n",
        "    add_button.click(add_chemical, inputs=[add_input], outputs=[chem_dropdown])\n",
        "    delete_button.click(delete_chemical, inputs=[chem_dropdown], outputs=[chem_dropdown])\n",
        "    undo_button.click(undo_action, outputs=[chem_dropdown])\n",
        "\n",
        "    # Agro Test Section\n",
        "    formulation_input = gr.Textbox(label=\"Enter Formulation %\")\n",
        "    actual_input = gr.Textbox(label=\"Actual HPLC/GLPC Results (comma-separated)\")\n",
        "    desired_input = gr.Textbox(label=\"Desired HPLC/GLPC Results (comma-separated)\")\n",
        "    analyze_button = gr.Button(\"🔍 Analyze\")\n",
        "\n",
        "    report_output = gr.Textbox(label=\"Efficiency Report\")\n",
        "    line_graph_output = gr.Image(label=\"Line Graph\")\n",
        "    candle_graph_output = gr.Plot(label=\"Candle Graph\")\n",
        "\n",
        "    analyze_button.click(\n",
        "        agro_test,\n",
        "        inputs=[chem_dropdown, formulation_input, actual_input, desired_input],\n",
        "        outputs=[report_output, line_graph_output, candle_graph_output]\n",
        "    )\n",
        "\n",
        "# Launch the Gradio app\n",
        "app.launch(debug=True)\n"
      ]
    }
  ]
}